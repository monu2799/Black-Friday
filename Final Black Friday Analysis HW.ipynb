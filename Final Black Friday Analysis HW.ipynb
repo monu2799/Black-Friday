{
 "cells": [
  {
   "cell_type": "code",
   "execution_count": 1,
   "id": "f5ab3c23",
   "metadata": {},
   "outputs": [],
   "source": [
    "import pandas as pd"
   ]
  },
  {
   "cell_type": "code",
   "execution_count": 2,
   "id": "7b0d5b8a",
   "metadata": {},
   "outputs": [],
   "source": [
    "import os\n",
    "import numpy as np\n",
    "import matplotlib.pyplot as plt\n",
    "import seaborn as sns\n",
    "import warnings"
   ]
  },
  {
   "cell_type": "code",
   "execution_count": 19,
   "id": "0663858d",
   "metadata": {},
   "outputs": [],
   "source": [
    "os.chdir(\"C:/Users/Monu/Desktop/Pandas/Black Friday\")"
   ]
  },
  {
   "cell_type": "code",
   "execution_count": 20,
   "id": "6ad42d9f",
   "metadata": {},
   "outputs": [],
   "source": [
    "warnings.filterwarnings(\"ignore\")\n",
    "%matplotlib inline"
   ]
  },
  {
   "cell_type": "code",
   "execution_count": 22,
   "id": "0cf43468",
   "metadata": {},
   "outputs": [],
   "source": [
    "train=pd.read_csv(\"train.csv\",encoding=\"unicode_escape\")"
   ]
  },
  {
   "cell_type": "code",
   "execution_count": 24,
   "id": "e42e924c",
   "metadata": {},
   "outputs": [],
   "source": [
    "test=pd.read_csv(\"test.csv\",encoding=\"unicode_escape\")"
   ]
  },
  {
   "cell_type": "code",
   "execution_count": 26,
   "id": "09484d29",
   "metadata": {},
   "outputs": [],
   "source": [
    "test=pd.read_csv(\"test.csv\")"
   ]
  },
  {
   "cell_type": "code",
   "execution_count": 27,
   "id": "3cd204d4",
   "metadata": {},
   "outputs": [],
   "source": [
    "train=pd.read_csv(\"train.csv\")"
   ]
  },
  {
   "cell_type": "code",
   "execution_count": 28,
   "id": "afa5a58b",
   "metadata": {},
   "outputs": [
    {
     "data": {
      "text/html": [
       "<div>\n",
       "<style scoped>\n",
       "    .dataframe tbody tr th:only-of-type {\n",
       "        vertical-align: middle;\n",
       "    }\n",
       "\n",
       "    .dataframe tbody tr th {\n",
       "        vertical-align: top;\n",
       "    }\n",
       "\n",
       "    .dataframe thead th {\n",
       "        text-align: right;\n",
       "    }\n",
       "</style>\n",
       "<table border=\"1\" class=\"dataframe\">\n",
       "  <thead>\n",
       "    <tr style=\"text-align: right;\">\n",
       "      <th></th>\n",
       "      <th>User_ID</th>\n",
       "      <th>Product_ID</th>\n",
       "      <th>Gender</th>\n",
       "      <th>Age</th>\n",
       "      <th>Occupation</th>\n",
       "      <th>City_Category</th>\n",
       "      <th>Stay_In_Current_City_Years</th>\n",
       "      <th>Marital_Status</th>\n",
       "      <th>Product_Category_1</th>\n",
       "      <th>Product_Category_2</th>\n",
       "      <th>Product_Category_3</th>\n",
       "    </tr>\n",
       "  </thead>\n",
       "  <tbody>\n",
       "    <tr>\n",
       "      <th>0</th>\n",
       "      <td>1000004</td>\n",
       "      <td>P00128942</td>\n",
       "      <td>M</td>\n",
       "      <td>46-50</td>\n",
       "      <td>7</td>\n",
       "      <td>B</td>\n",
       "      <td>2</td>\n",
       "      <td>1</td>\n",
       "      <td>1</td>\n",
       "      <td>11.0</td>\n",
       "      <td>NaN</td>\n",
       "    </tr>\n",
       "    <tr>\n",
       "      <th>1</th>\n",
       "      <td>1000009</td>\n",
       "      <td>P00113442</td>\n",
       "      <td>M</td>\n",
       "      <td>26-35</td>\n",
       "      <td>17</td>\n",
       "      <td>C</td>\n",
       "      <td>0</td>\n",
       "      <td>0</td>\n",
       "      <td>3</td>\n",
       "      <td>5.0</td>\n",
       "      <td>NaN</td>\n",
       "    </tr>\n",
       "    <tr>\n",
       "      <th>2</th>\n",
       "      <td>1000010</td>\n",
       "      <td>P00288442</td>\n",
       "      <td>F</td>\n",
       "      <td>36-45</td>\n",
       "      <td>1</td>\n",
       "      <td>B</td>\n",
       "      <td>4+</td>\n",
       "      <td>1</td>\n",
       "      <td>5</td>\n",
       "      <td>14.0</td>\n",
       "      <td>NaN</td>\n",
       "    </tr>\n",
       "    <tr>\n",
       "      <th>3</th>\n",
       "      <td>1000010</td>\n",
       "      <td>P00145342</td>\n",
       "      <td>F</td>\n",
       "      <td>36-45</td>\n",
       "      <td>1</td>\n",
       "      <td>B</td>\n",
       "      <td>4+</td>\n",
       "      <td>1</td>\n",
       "      <td>4</td>\n",
       "      <td>9.0</td>\n",
       "      <td>NaN</td>\n",
       "    </tr>\n",
       "    <tr>\n",
       "      <th>4</th>\n",
       "      <td>1000011</td>\n",
       "      <td>P00053842</td>\n",
       "      <td>F</td>\n",
       "      <td>26-35</td>\n",
       "      <td>1</td>\n",
       "      <td>C</td>\n",
       "      <td>1</td>\n",
       "      <td>0</td>\n",
       "      <td>4</td>\n",
       "      <td>5.0</td>\n",
       "      <td>12.0</td>\n",
       "    </tr>\n",
       "  </tbody>\n",
       "</table>\n",
       "</div>"
      ],
      "text/plain": [
       "   User_ID Product_ID Gender    Age  Occupation City_Category  \\\n",
       "0  1000004  P00128942      M  46-50           7             B   \n",
       "1  1000009  P00113442      M  26-35          17             C   \n",
       "2  1000010  P00288442      F  36-45           1             B   \n",
       "3  1000010  P00145342      F  36-45           1             B   \n",
       "4  1000011  P00053842      F  26-35           1             C   \n",
       "\n",
       "  Stay_In_Current_City_Years  Marital_Status  Product_Category_1  \\\n",
       "0                          2               1                   1   \n",
       "1                          0               0                   3   \n",
       "2                         4+               1                   5   \n",
       "3                         4+               1                   4   \n",
       "4                          1               0                   4   \n",
       "\n",
       "   Product_Category_2  Product_Category_3  \n",
       "0                11.0                 NaN  \n",
       "1                 5.0                 NaN  \n",
       "2                14.0                 NaN  \n",
       "3                 9.0                 NaN  \n",
       "4                 5.0                12.0  "
      ]
     },
     "execution_count": 28,
     "metadata": {},
     "output_type": "execute_result"
    }
   ],
   "source": [
    "test.head()"
   ]
  },
  {
   "cell_type": "code",
   "execution_count": 29,
   "id": "ccf64cf2",
   "metadata": {},
   "outputs": [
    {
     "data": {
      "text/plain": [
       "(233599, 11)"
      ]
     },
     "execution_count": 29,
     "metadata": {},
     "output_type": "execute_result"
    }
   ],
   "source": [
    "test.shape"
   ]
  },
  {
   "cell_type": "code",
   "execution_count": null,
   "id": "cc0b3c23",
   "metadata": {},
   "outputs": [],
   "source": [
    "train.head()"
   ]
  },
  {
   "cell_type": "code",
   "execution_count": null,
   "id": "29fc010b",
   "metadata": {},
   "outputs": [],
   "source": [
    "train.shape"
   ]
  },
  {
   "cell_type": "code",
   "execution_count": null,
   "id": "0ef4b335",
   "metadata": {},
   "outputs": [],
   "source": [
    "test.isnull().sum()"
   ]
  },
  {
   "cell_type": "code",
   "execution_count": null,
   "id": "84380e52",
   "metadata": {},
   "outputs": [],
   "source": [
    "train.isnull().sum()"
   ]
  },
  {
   "cell_type": "code",
   "execution_count": null,
   "id": "d03243ab",
   "metadata": {},
   "outputs": [],
   "source": [
    "blf=test.append(train)"
   ]
  },
  {
   "cell_type": "code",
   "execution_count": null,
   "id": "aa95fb27",
   "metadata": {},
   "outputs": [],
   "source": [
    "blf.isnull().sum()"
   ]
  },
  {
   "cell_type": "code",
   "execution_count": null,
   "id": "315b75af",
   "metadata": {},
   "outputs": [],
   "source": [
    "print(\"Shape:\",blf.shape)\n",
    "blf.head()"
   ]
  },
  {
   "cell_type": "markdown",
   "id": "49efcaf6",
   "metadata": {},
   "source": [
    "# Find all Unique values in each column"
   ]
  },
  {
   "cell_type": "code",
   "execution_count": null,
   "id": "9e7367e6",
   "metadata": {},
   "outputs": [],
   "source": [
    "blf.apply(lambda x: len(x.unique()))"
   ]
  },
  {
   "cell_type": "code",
   "execution_count": null,
   "id": "f082fc94",
   "metadata": {},
   "outputs": [],
   "source": [
    "blf.info()"
   ]
  },
  {
   "cell_type": "code",
   "execution_count": null,
   "id": "ce2fa919",
   "metadata": {},
   "outputs": [],
   "source": [
    "blf.describe(include=\"O\")"
   ]
  },
  {
   "cell_type": "code",
   "execution_count": null,
   "id": "348eecff",
   "metadata": {},
   "outputs": [],
   "source": [
    "blf.describe()"
   ]
  },
  {
   "cell_type": "markdown",
   "id": "29f5248e",
   "metadata": {},
   "source": [
    "# EDA"
   ]
  },
  {
   "cell_type": "markdown",
   "id": "6e91fced",
   "metadata": {},
   "source": [
    "#Univariate"
   ]
  },
  {
   "cell_type": "code",
   "execution_count": null,
   "id": "5760aaa0",
   "metadata": {},
   "outputs": [],
   "source": [
    "plt.figure(figsize=(13,7))\n",
    "sns.distplot(blf[\"Purchase\"])"
   ]
  },
  {
   "cell_type": "code",
   "execution_count": null,
   "id": "71dd0cb2",
   "metadata": {},
   "outputs": [],
   "source": [
    "sns.boxplot(blf[\"Purchase\"])"
   ]
  },
  {
   "cell_type": "markdown",
   "id": "f4effb50",
   "metadata": {},
   "source": [
    "# 3-SD Rule"
   ]
  },
  {
   "cell_type": "code",
   "execution_count": null,
   "id": "967412e6",
   "metadata": {},
   "outputs": [],
   "source": [
    "m=np.mean(blf.Purchase)\n",
    "std=np.std(blf.Purchase)"
   ]
  },
  {
   "cell_type": "code",
   "execution_count": null,
   "id": "eb32b5af",
   "metadata": {},
   "outputs": [],
   "source": [
    "SD3 = m+3*std\n",
    "SD3"
   ]
  },
  {
   "cell_type": "code",
   "execution_count": null,
   "id": "3015f3b7",
   "metadata": {},
   "outputs": [],
   "source": [
    "Out=blf[blf[\"Purchase\"]>SD3][\"Purchase\"].count()\n",
    "Out"
   ]
  },
  {
   "cell_type": "markdown",
   "id": "ec4fcf47",
   "metadata": {},
   "source": [
    "# Percentile Rule"
   ]
  },
  {
   "cell_type": "code",
   "execution_count": null,
   "id": "e545d2b1",
   "metadata": {},
   "outputs": [],
   "source": [
    "P=np.percentile(blf.Purchase,99)\n",
    "P"
   ]
  },
  {
   "cell_type": "markdown",
   "id": "bfa7a175",
   "metadata": {},
   "source": [
    "# IQR Method"
   ]
  },
  {
   "cell_type": "code",
   "execution_count": null,
   "id": "f305201e",
   "metadata": {},
   "outputs": [],
   "source": [
    "Q3=np.percentile(blf.Purchase,75)\n",
    "Q1=np.percentile(blf.Purchase,25)\n",
    "IQR = Q3-Q1\n",
    "IQR"
   ]
  },
  {
   "cell_type": "code",
   "execution_count": null,
   "id": "406eda30",
   "metadata": {},
   "outputs": [],
   "source": [
    "sns.countplot(blf[\"Age\"])"
   ]
  },
  {
   "cell_type": "code",
   "execution_count": null,
   "id": "f1b85af6",
   "metadata": {},
   "outputs": [],
   "source": [
    "blf[\"Age\"].value_counts(normalize=True).sort_values()*100"
   ]
  },
  {
   "cell_type": "code",
   "execution_count": null,
   "id": "a60e7358",
   "metadata": {},
   "outputs": [],
   "source": [
    "sns.countplot(blf[\"Gender\"])"
   ]
  },
  {
   "cell_type": "code",
   "execution_count": null,
   "id": "685e96f3",
   "metadata": {},
   "outputs": [],
   "source": [
    "plt.figure(figsize=(13,7))\n",
    "sns.countplot(blf[\"Occupation\"])"
   ]
  },
  {
   "cell_type": "code",
   "execution_count": null,
   "id": "717cee95",
   "metadata": {},
   "outputs": [],
   "source": [
    "sns.countplot(blf[\"City_Category\"])"
   ]
  },
  {
   "cell_type": "code",
   "execution_count": null,
   "id": "6841add2",
   "metadata": {},
   "outputs": [],
   "source": [
    "sns.countplot(blf[\"Stay_In_Current_City_Years\"])"
   ]
  },
  {
   "cell_type": "code",
   "execution_count": null,
   "id": "0807f3be",
   "metadata": {},
   "outputs": [],
   "source": [
    "blf[\"Stay_In_Current_City_Years\"].value_counts(normalize=True)*100"
   ]
  },
  {
   "cell_type": "code",
   "execution_count": null,
   "id": "616fc4bb",
   "metadata": {},
   "outputs": [],
   "source": [
    "sns.countplot(blf[\"Marital_Status\"])"
   ]
  },
  {
   "cell_type": "code",
   "execution_count": null,
   "id": "de08a5ae",
   "metadata": {},
   "outputs": [],
   "source": [
    "blf[\"Marital_Status\"].value_counts(normalize=True)*100"
   ]
  },
  {
   "cell_type": "code",
   "execution_count": null,
   "id": "c65770f2",
   "metadata": {},
   "outputs": [],
   "source": [
    "plt.figure(figsize=(13,7))\n",
    "sns.countplot(blf[\"Product_Category_1\"])"
   ]
  },
  {
   "cell_type": "code",
   "execution_count": null,
   "id": "f098295b",
   "metadata": {},
   "outputs": [],
   "source": [
    "blf[\"Product_Category_1\"].value_counts(normalize=True)*100"
   ]
  },
  {
   "cell_type": "code",
   "execution_count": null,
   "id": "9687ca7a",
   "metadata": {},
   "outputs": [],
   "source": [
    "plt.figure(figsize=(13,7))\n",
    "sns.countplot(blf[\"Product_Category_2\"])"
   ]
  },
  {
   "cell_type": "code",
   "execution_count": null,
   "id": "b43606e7",
   "metadata": {},
   "outputs": [],
   "source": [
    "blf[\"Product_Category_2\"].value_counts(normalize=True)*100"
   ]
  },
  {
   "cell_type": "code",
   "execution_count": null,
   "id": "74ae09a4",
   "metadata": {},
   "outputs": [],
   "source": [
    "plt.figure(figsize=(13,7))\n",
    "sns.countplot(blf[\"Product_Category_3\"])"
   ]
  },
  {
   "cell_type": "code",
   "execution_count": null,
   "id": "6babc7a5",
   "metadata": {},
   "outputs": [],
   "source": [
    "blf[\"Product_Category_3\"].value_counts(normalize=True)*100"
   ]
  },
  {
   "cell_type": "markdown",
   "id": "4327041c",
   "metadata": {},
   "source": [
    "#Bivariate"
   ]
  },
  {
   "cell_type": "code",
   "execution_count": null,
   "id": "9943ee5e",
   "metadata": {},
   "outputs": [],
   "source": [
    "#Pivot Table\n",
    "Gender_plot=blf.pivot_table(index=\"Gender\", values=\"Purchase\", aggfunc=np.mean)\n",
    "Gender_plot"
   ]
  },
  {
   "cell_type": "code",
   "execution_count": null,
   "id": "3c3ada0f",
   "metadata": {},
   "outputs": [],
   "source": [
    "Gender_plot.plot(kind=\"bar\")\n",
    "plt.xlabel(\"Gender\")\n",
    "plt.ylabel(\"Purchase\")\n",
    "plt.title(\"Gender v/s Purchase Analysis\")\n",
    "plt.xticks(rotation=0)\n",
    "plt.show()"
   ]
  },
  {
   "cell_type": "code",
   "execution_count": null,
   "id": "0e618439",
   "metadata": {},
   "outputs": [],
   "source": [
    "Age_plot=blf.pivot_table(index=\"Age\", values=\"Purchase\", aggfunc=np.mean)\n",
    "Age_plot"
   ]
  },
  {
   "cell_type": "code",
   "execution_count": null,
   "id": "2c6cdc6d",
   "metadata": {},
   "outputs": [],
   "source": [
    "Age_plot.plot(kind=\"bar\", figsize=(13,7))\n",
    "plt.xlabel(\"Age\")\n",
    "plt.ylabel(\"Purchase\")\n",
    "plt.title(\"Age v/s Purchase Analysis\")\n",
    "plt.xticks(rotation=0)\n",
    "plt.show()"
   ]
  },
  {
   "cell_type": "code",
   "execution_count": null,
   "id": "ac704faf",
   "metadata": {},
   "outputs": [],
   "source": [
    "Occ_plot=blf.pivot_table(index=\"Occupation\", values=\"Purchase\", aggfunc=np.mean)\n",
    "Occ_plot"
   ]
  },
  {
   "cell_type": "code",
   "execution_count": null,
   "id": "409ec8b2",
   "metadata": {},
   "outputs": [],
   "source": [
    "Occ_plot.plot(kind=\"bar\", figsize=(13,7))\n",
    "plt.xlabel(\"Occupation\")\n",
    "plt.ylabel(\"Purchase\")\n",
    "plt.title(\"Occupation v/s Purchase Analysis\")\n",
    "plt.xticks(rotation=0)\n",
    "plt.show()"
   ]
  },
  {
   "cell_type": "code",
   "execution_count": null,
   "id": "f864a147",
   "metadata": {},
   "outputs": [],
   "source": [
    "Ci_Ct_plot=blf.pivot_table(index=\"City_Category\", values=\"Purchase\", aggfunc=np.mean)\n",
    "Ci_Ct_plot"
   ]
  },
  {
   "cell_type": "code",
   "execution_count": null,
   "id": "bac50024",
   "metadata": {},
   "outputs": [],
   "source": [
    "Ci_Ct_plot.plot(kind=\"bar\", figsize=(13,7))\n",
    "plt.xlabel(\"City_Category\")\n",
    "plt.ylabel(\"Purchase\")\n",
    "plt.title(\"City_Category v/s Purchase Analysis\")\n",
    "plt.xticks(rotation=0)\n",
    "plt.show()"
   ]
  },
  {
   "cell_type": "code",
   "execution_count": null,
   "id": "ffe45256",
   "metadata": {},
   "outputs": [],
   "source": [
    "Stay_Yrs_plot=blf.pivot_table(index=\"Stay_In_Current_City_Years\", values=\"Purchase\", aggfunc=np.mean)\n",
    "Stay_Yrs_plot"
   ]
  },
  {
   "cell_type": "code",
   "execution_count": null,
   "id": "594901d9",
   "metadata": {},
   "outputs": [],
   "source": [
    "Stay_Yrs_plot.plot(kind=\"bar\", figsize=(13,7))\n",
    "plt.xlabel(\"Stay_In_Current_City_Years\")\n",
    "plt.ylabel(\"Purchase\")\n",
    "plt.title(\"Stay_In_Current_City_Years v/s Purchase Analysis\")\n",
    "plt.xticks(rotation=0)\n",
    "plt.show()"
   ]
  },
  {
   "cell_type": "code",
   "execution_count": null,
   "id": "40c622d1",
   "metadata": {},
   "outputs": [],
   "source": [
    "MS_plot=blf.pivot_table(index=\"Marital_Status\", values=\"Purchase\", aggfunc=np.mean)\n",
    "MS_plot"
   ]
  },
  {
   "cell_type": "code",
   "execution_count": null,
   "id": "fbbc954e",
   "metadata": {},
   "outputs": [],
   "source": [
    "MS_plot.plot(kind=\"bar\", figsize=(13,7))\n",
    "plt.xlabel(\"Marital Status\")\n",
    "plt.ylabel(\"Purchase\")\n",
    "plt.title(\"Marital Status v/s Purchase Analysis\")\n",
    "plt.xticks(rotation=0)\n",
    "plt.show()"
   ]
  },
  {
   "cell_type": "code",
   "execution_count": null,
   "id": "4f6644a7",
   "metadata": {},
   "outputs": [],
   "source": [
    "P1_plot=blf.pivot_table(index=\"Product_Category_1\", values=\"Purchase\", aggfunc=np.mean)\n",
    "P1_plot"
   ]
  },
  {
   "cell_type": "code",
   "execution_count": null,
   "id": "00301e88",
   "metadata": {},
   "outputs": [],
   "source": [
    "P1_plot.plot(kind=\"bar\", figsize=(13,7))\n",
    "plt.xlabel(\"Product Category 1\")\n",
    "plt.ylabel(\"Purchase\")\n",
    "plt.title(\"Product Category 1 v/s Purchase Analysis\")\n",
    "plt.xticks(rotation=0)\n",
    "plt.show()"
   ]
  },
  {
   "cell_type": "code",
   "execution_count": null,
   "id": "78088868",
   "metadata": {},
   "outputs": [],
   "source": [
    "P2_plot=blf.pivot_table(index=\"Product_Category_2\", values=\"Purchase\", aggfunc=np.mean)\n",
    "P2_plot"
   ]
  },
  {
   "cell_type": "code",
   "execution_count": null,
   "id": "1ab48650",
   "metadata": {},
   "outputs": [],
   "source": [
    "P2_plot.plot(kind=\"bar\", figsize=(13,7))\n",
    "plt.xlabel(\"Product Category 2\")\n",
    "plt.ylabel(\"Purchase\")\n",
    "plt.title(\"Product Category 2 v/s Purchase Analysis\")\n",
    "plt.xticks(rotation=0)\n",
    "plt.show()"
   ]
  },
  {
   "cell_type": "code",
   "execution_count": null,
   "id": "63053b5e",
   "metadata": {},
   "outputs": [],
   "source": [
    "P3_plot=blf.pivot_table(index=\"Product_Category_3\", values=\"Purchase\", aggfunc=np.mean)\n",
    "P3_plot"
   ]
  },
  {
   "cell_type": "code",
   "execution_count": null,
   "id": "4e94f4c8",
   "metadata": {},
   "outputs": [],
   "source": [
    "P3_plot.plot(kind=\"bar\", figsize=(13,7))\n",
    "plt.xlabel(\"Product Category 3\")\n",
    "plt.ylabel(\"Purchase\")\n",
    "plt.title(\"Product Category 3 v/s Purchase Analysis\")\n",
    "plt.xticks(rotation=0)\n",
    "plt.show()"
   ]
  },
  {
   "cell_type": "markdown",
   "id": "c197abe0",
   "metadata": {},
   "source": [
    "# Correlation"
   ]
  },
  {
   "cell_type": "code",
   "execution_count": null,
   "id": "aa216816",
   "metadata": {},
   "outputs": [],
   "source": [
    "sns.heatmap(blf.corr(), annot=True, vmin=-1, vmax=1, center=0, cmap=\"coolwarm\")"
   ]
  },
  {
   "cell_type": "markdown",
   "id": "1e2c2aa6",
   "metadata": {},
   "source": [
    "# Missing Value Treatment"
   ]
  },
  {
   "cell_type": "code",
   "execution_count": null,
   "id": "1d14f6cb",
   "metadata": {},
   "outputs": [],
   "source": [
    "blf.isnull().sum()"
   ]
  },
  {
   "cell_type": "code",
   "execution_count": null,
   "id": "a45efc00",
   "metadata": {},
   "outputs": [],
   "source": [
    "blf[\"Product_Category_2\"]=np.round(blf[\"Product_Category_2\"].fillna(blf.Product_Category_2).groupby(blf.Product_Category_1).transform(\"mean\"))"
   ]
  },
  {
   "cell_type": "code",
   "execution_count": null,
   "id": "49e0fb1a",
   "metadata": {},
   "outputs": [],
   "source": [
    "blf.Product_Category_2"
   ]
  },
  {
   "cell_type": "code",
   "execution_count": null,
   "id": "4e5d5ed5",
   "metadata": {},
   "outputs": [],
   "source": [
    "(blf.Product_Category_2.isnull().sum()/blf.shape[0])*100"
   ]
  },
  {
   "cell_type": "code",
   "execution_count": null,
   "id": "ba97acc7",
   "metadata": {},
   "outputs": [],
   "source": [
    "(blf.Product_Category_3.isnull().sum()/blf.shape[0])*100"
   ]
  },
  {
   "cell_type": "code",
   "execution_count": null,
   "id": "868d1329",
   "metadata": {},
   "outputs": [],
   "source": [
    "blf[\"Product_Category_3\"]=np.round(blf[\"Product_Category_3\"].fillna(blf.Product_Category_3).groupby(blf.Product_Category_1).transform(\"mean\"))"
   ]
  },
  {
   "cell_type": "code",
   "execution_count": null,
   "id": "f6698959",
   "metadata": {},
   "outputs": [],
   "source": [
    "blf.Product_Category_3"
   ]
  },
  {
   "cell_type": "code",
   "execution_count": null,
   "id": "846c56cc",
   "metadata": {},
   "outputs": [],
   "source": [
    "(blf.Product_Category_3.isnull().sum()/blf.shape[0])*100"
   ]
  },
  {
   "cell_type": "code",
   "execution_count": null,
   "id": "c18b61eb",
   "metadata": {},
   "outputs": [],
   "source": [
    "blf[\"Product_Category_2\"]= blf[\"Product_Category_2\"].fillna(0.0).astype(\"float32\")\n",
    "blf[\"Product_Category_3\"]= blf[\"Product_Category_3\"].fillna(0.0).astype(\"float32\")"
   ]
  },
  {
   "cell_type": "code",
   "execution_count": null,
   "id": "c7c00d8f",
   "metadata": {},
   "outputs": [],
   "source": [
    "blf.Product_Category_2.isnull().sum()"
   ]
  },
  {
   "cell_type": "code",
   "execution_count": null,
   "id": "12431ba2",
   "metadata": {},
   "outputs": [],
   "source": [
    "blf.Product_Category_3.isnull().sum()"
   ]
  },
  {
   "cell_type": "code",
   "execution_count": null,
   "id": "1669ae83",
   "metadata": {},
   "outputs": [],
   "source": [
    "blf.info()"
   ]
  },
  {
   "cell_type": "markdown",
   "id": "75e874e1",
   "metadata": {},
   "source": [
    "# Copying Main Data"
   ]
  },
  {
   "cell_type": "code",
   "execution_count": null,
   "id": "a225e80b",
   "metadata": {},
   "outputs": [],
   "source": [
    "blf1 = blf.copy()"
   ]
  },
  {
   "cell_type": "code",
   "execution_count": null,
   "id": "12e7fd35",
   "metadata": {},
   "outputs": [],
   "source": [
    "blf1.info()"
   ]
  },
  {
   "cell_type": "code",
   "execution_count": null,
   "id": "2a760f7e",
   "metadata": {},
   "outputs": [],
   "source": [
    "blf1.drop([\"User_ID\", \"Product_ID\"], axis = 1, inplace = True)"
   ]
  },
  {
   "cell_type": "code",
   "execution_count": null,
   "id": "4850bf9d",
   "metadata": {},
   "outputs": [],
   "source": [
    "blf1.info()"
   ]
  },
  {
   "cell_type": "markdown",
   "id": "6bd603f0",
   "metadata": {},
   "source": [
    "# Define Dummy Variables"
   ]
  },
  {
   "cell_type": "code",
   "execution_count": null,
   "id": "87bbfd07",
   "metadata": {},
   "outputs": [],
   "source": [
    "blf1= pd.get_dummies(blf1, drop_first=True)"
   ]
  },
  {
   "cell_type": "code",
   "execution_count": null,
   "id": "c87544fc",
   "metadata": {},
   "outputs": [],
   "source": [
    "blf1.info()"
   ]
  },
  {
   "cell_type": "code",
   "execution_count": null,
   "id": "2475a344",
   "metadata": {},
   "outputs": [],
   "source": [
    "blf1.head()"
   ]
  },
  {
   "cell_type": "code",
   "execution_count": null,
   "id": "c6ee8b76",
   "metadata": {},
   "outputs": [],
   "source": [
    "test1=blf1[blf1[\"Purchase\"].isnull()]\n",
    "train1=blf1[blf1[\"Purchase\"].notnull()]"
   ]
  },
  {
   "cell_type": "code",
   "execution_count": null,
   "id": "2fc5f8d5",
   "metadata": {},
   "outputs": [],
   "source": [
    "train1.shape"
   ]
  },
  {
   "cell_type": "code",
   "execution_count": null,
   "id": "e2cffd7a",
   "metadata": {},
   "outputs": [],
   "source": [
    "test1.shape"
   ]
  },
  {
   "cell_type": "markdown",
   "id": "1c9df4e3",
   "metadata": {},
   "source": [
    "# Assigning Dependent and Independent Variable"
   ]
  },
  {
   "cell_type": "code",
   "execution_count": null,
   "id": "bb6a6a99",
   "metadata": {},
   "outputs": [],
   "source": [
    "train_y=train1[\"Purchase\"]\n",
    "train_x=train1.drop(\"Purchase\", axis=1)"
   ]
  },
  {
   "cell_type": "code",
   "execution_count": null,
   "id": "88e3b88f",
   "metadata": {},
   "outputs": [],
   "source": [
    "test_c1=test1.drop(\"Purchase\",axis=1)"
   ]
  },
  {
   "cell_type": "markdown",
   "id": "51d4d421",
   "metadata": {},
   "source": [
    "# Regression Model Building"
   ]
  },
  {
   "cell_type": "code",
   "execution_count": null,
   "id": "50c10e88",
   "metadata": {},
   "outputs": [],
   "source": [
    "from sklearn.linear_model import LinearRegression"
   ]
  },
  {
   "cell_type": "code",
   "execution_count": null,
   "id": "430aace7",
   "metadata": {},
   "outputs": [],
   "source": [
    "LR=LinearRegression()"
   ]
  },
  {
   "cell_type": "code",
   "execution_count": null,
   "id": "44ca6a69",
   "metadata": {},
   "outputs": [],
   "source": [
    "LR.fit(train_x, train_y)"
   ]
  },
  {
   "cell_type": "markdown",
   "id": "2a45b3df",
   "metadata": {},
   "source": [
    "# Alpha Value"
   ]
  },
  {
   "cell_type": "code",
   "execution_count": null,
   "id": "2dd94eae",
   "metadata": {},
   "outputs": [],
   "source": [
    "LR.intercept_"
   ]
  },
  {
   "cell_type": "code",
   "execution_count": null,
   "id": "e17628e7",
   "metadata": {},
   "outputs": [],
   "source": [
    "LR.coef_"
   ]
  },
  {
   "cell_type": "markdown",
   "id": "f9912b84",
   "metadata": {},
   "source": [
    "# Converting Coefficient to DataFrame"
   ]
  },
  {
   "cell_type": "code",
   "execution_count": null,
   "id": "245a67cb",
   "metadata": {},
   "outputs": [],
   "source": [
    "coeff_LR = pd.DataFrame(LR.coef_, train_x.columns, columns=[\"Coefficient\"])\n",
    "coeff_LR"
   ]
  },
  {
   "cell_type": "code",
   "execution_count": null,
   "id": "888cd7da",
   "metadata": {},
   "outputs": [],
   "source": [
    "Y_pred=LR.predict(test_c1)"
   ]
  },
  {
   "cell_type": "code",
   "execution_count": null,
   "id": "bce84dc2",
   "metadata": {},
   "outputs": [],
   "source": [
    "Y_pred"
   ]
  },
  {
   "cell_type": "code",
   "execution_count": null,
   "id": "3adef77e",
   "metadata": {},
   "outputs": [],
   "source": [
    "blf2=blf.copy()"
   ]
  },
  {
   "cell_type": "code",
   "execution_count": null,
   "id": "5f1f4b92",
   "metadata": {},
   "outputs": [],
   "source": [
    "test_final = blf2[blf2.Purchase.isnull()]"
   ]
  },
  {
   "cell_type": "code",
   "execution_count": null,
   "id": "30619680",
   "metadata": {},
   "outputs": [],
   "source": [
    "test_final.head()"
   ]
  },
  {
   "cell_type": "code",
   "execution_count": null,
   "id": "64c94633",
   "metadata": {},
   "outputs": [],
   "source": [
    "data_final=test_final[[\"User_ID\",\"Product_ID\"]]"
   ]
  },
  {
   "cell_type": "code",
   "execution_count": null,
   "id": "60383716",
   "metadata": {},
   "outputs": [],
   "source": [
    "data_final.shape"
   ]
  },
  {
   "cell_type": "code",
   "execution_count": null,
   "id": "3aeb2719",
   "metadata": {},
   "outputs": [],
   "source": [
    "data_pred=pd.concat([data_final, pd.DataFrame(Y_pred, columns=[\"Purchase\"])], axis = 1)"
   ]
  },
  {
   "cell_type": "markdown",
   "id": "e16ab21b",
   "metadata": {},
   "source": [
    "# Predicted Purchase"
   ]
  },
  {
   "cell_type": "code",
   "execution_count": null,
   "id": "279a4ba9",
   "metadata": {},
   "outputs": [],
   "source": [
    "data_pred.head()"
   ]
  },
  {
   "cell_type": "markdown",
   "id": "94b31703",
   "metadata": {},
   "source": [
    "# Exporting Final Predicted Output"
   ]
  },
  {
   "cell_type": "code",
   "execution_count": null,
   "id": "684302a7",
   "metadata": {},
   "outputs": [],
   "source": [
    "#data_pred.to_csv(\"Prediced Purchase for Blk Frdy.csv\", index = False)"
   ]
  },
  {
   "cell_type": "code",
   "execution_count": null,
   "id": "af1f8a84",
   "metadata": {},
   "outputs": [],
   "source": [
    "plt.figure(figsize=(13,7))\n",
    "sns.distplot(data_pred[\"Purchase\"])"
   ]
  },
  {
   "cell_type": "code",
   "execution_count": null,
   "id": "a96c04f8",
   "metadata": {},
   "outputs": [],
   "source": []
  }
 ],
 "metadata": {
  "kernelspec": {
   "display_name": "Python 3 (ipykernel)",
   "language": "python",
   "name": "python3"
  },
  "language_info": {
   "codemirror_mode": {
    "name": "ipython",
    "version": 3
   },
   "file_extension": ".py",
   "mimetype": "text/x-python",
   "name": "python",
   "nbconvert_exporter": "python",
   "pygments_lexer": "ipython3",
   "version": "3.9.7"
  }
 },
 "nbformat": 4,
 "nbformat_minor": 5
}
